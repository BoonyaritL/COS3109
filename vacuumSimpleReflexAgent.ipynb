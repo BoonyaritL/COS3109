{
  "cells": [
    {
      "cell_type": "markdown",
      "metadata": {
        "id": "view-in-github",
        "colab_type": "text"
      },
      "source": [
        "<a href=\"https://colab.research.google.com/github/BoonyaritL/COS3109/blob/main/vacuumSimpleReflexAgent.ipynb\" target=\"_parent\"><img src=\"https://colab.research.google.com/assets/colab-badge.svg\" alt=\"Open In Colab\"/></a>"
      ]
    },
    {
      "cell_type": "markdown",
      "source": [
        "#Vacuum Cleaner![vacuum.png](data:image/png;base64,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)"
      ],
      "metadata": {
        "id": "UaqvFN74eH16"
      },
      "id": "UaqvFN74eH16"
    },
    {
      "cell_type": "markdown",
      "source": [
        "##PEAS\n",
        "###Performance measure\n",
        "      -ความสะอาดของห้อง สะดวก ปริมาณสิ่งสกปรกที่ทำความสะอาด etc.\n",
        "###Environment\n",
        "      -ห้อง กำแพง ฝุ่น สิ่งกีดขวาง etc.\n",
        "###Actuators\n",
        "      -ล้อ มอเตอร์ etc.\n",
        "###Sensors\n",
        "      - กล้อง: ใช้ในการมองเห็นวัตถุต่างๆ เช่น ฝุ่นและเศษขยะ เซ็นเซอร์ตรวจจับฝุ่น wifi displacement etc."
      ],
      "metadata": {
        "id": "7JQc539HeMBI"
      },
      "id": "7JQc539HeMBI"
    },
    {
      "cell_type": "markdown",
      "source": [
        "###Environment terminology\n",
        "-Partially observable เพราะสภาพเเวดล้อมของเครื่องดูดฝุ่นบางส่วนสามารถสังเกตได้อย่างเต็มที่ เช่น ตำแหน่งของฝุ่นและเศษขยะ\n",
        "\n",
        "-Single เพราะสภาพเเวดล้อมของเครื่องดูดฝุ่นเป้าหมายของเครื่องดูดฝุ่นคือฝุ่นอย่างเดียวเครื่องดูดฝุ่นไม่จำเป็นต้องพิจารณาสิ่งอื่นๆ ในสภาพแวดล้อม เช่น ตำแหน่งของเฟอร์นิเจอร์และของตกแต่งภายในห้อง\n",
        "\n",
        "-Stochastic เพราะผลลัพธ์ของเครื่องดูดฝุ่น เป็นแบบสุ่ม เช่น ฝุ่นอาจตกลงมาจากเฟอร์นิเจอร์ หรือเศษขยะอาจเคลื่อนที่ได้\n",
        "\n",
        "-Dynamic เนื่องจากสภาพแวดล้อมของเครื่องดูดฝุ่นเปลี่ยนแปลงตลอดเวลา เช่น ฝุ่นอาจตกลงมาใหม่ หรือเศษขยะอาจถูกย้ายตำแหน่ง\n",
        "\n",
        "-Discrete\n",
        "เนื่องจากตำแหน่งของฝุ่นและเศษขยะ อยู่ตรงกลางห้อง อยู่มุมห้อง อยู่ใต้โต๊ะ\n",
        "\n",
        "-adversarial เพราะว่าสภาพแวดล้อมจริงนั้นมีความซับซ้อนฝุ่นและเศษขยะ\n",
        "อาจเคลื่อนที่ได้และเฟอร์นิเจอร์และของตกแต่งภายในห้องอาจวางอยู่ไม่ตรงตำแหน่งเดิมฝุ่นอาจตกลงมาจากเฟอร์นิเจอร์ หรือเศษขยะอาจเคลื่อนที่ไปมา\n",
        "\n",
        "-Sequentialสภาพแวดล้อมของเครื่องดูดฝุ่นเป็นแบบต่อเนื่อง\n",
        "อาจใช้เวลาหลายชั่วโมงในการทำความสะอาด\n",
        "ซึ่ง agent จะต้องเรียนรู้จากการกระทำที่ผ่านมาเพื่อปรับปรุงประสิทธิภาพ\n"
      ],
      "metadata": {
        "id": "-UIQHPaJgXBJ"
      },
      "id": "-UIQHPaJgXBJ"
    },
    {
      "cell_type": "code",
      "execution_count": null,
      "id": "3b25fdf7",
      "metadata": {
        "id": "3b25fdf7",
        "outputId": "d9c73c34-9203-49d0-f007-33192fa4bdc8",
        "colab": {
          "base_uri": "https://localhost:8080/"
        }
      },
      "outputs": [
        {
          "output_type": "stream",
          "name": "stdout",
          "text": [
            "{'A': 1, 'B': 1}\n",
            "Vacuum is randomly placed at Location A.\n",
            "Location A is Dirty.\n",
            "Location A has been Cleaned.\n",
            "Moving to Location B...\n",
            "Location B is Dirty.\n",
            "Location B has been Cleaned.\n",
            "Environment is Clean.\n",
            "{'A': 0, 'B': 0}\n",
            "Performance Measurement: 2\n"
          ]
        }
      ],
      "source": [
        "import random\n",
        "\n",
        "\n",
        "class Environment(object):\n",
        "    def __init__(self):\n",
        "        self.locationCondition = {'A': '0', 'B': '1'}\n",
        "        self.locationCondition['A'] = random.randint(0, 1)\n",
        "        self.locationCondition['B'] = random.randint(0, 1)\n",
        "\n",
        "\n",
        "class SimpleReflexVacuumAgent(Environment):\n",
        "    def __init__(self, Environment):\n",
        "        print(Environment.locationCondition)\n",
        "        Score = 0\n",
        "        vacuumLocation = random.randint(0, 1)\n",
        "        if vacuumLocation == 0:\n",
        "            print(\"Vacuum is randomly placed at Location A.\")\n",
        "            print(\"Location A is Dirty.\") if Environment.locationCondition['A'] == 1 else print(\n",
        "                \"Location A is Clean.\")\n",
        "            if Environment.locationCondition['A'] == 1:\n",
        "                Environment.locationCondition['A'] = 0\n",
        "                Score += 1\n",
        "                print(\"Location A has been Cleaned.\")\n",
        "            print(\"Moving to Location B...\")\n",
        "            print(\"Location B is Dirty.\") if Environment.locationCondition['B'] == 1 else print(\n",
        "                \"Location B is Clean.\")\n",
        "            if Environment.locationCondition['B'] == 1:\n",
        "                Environment.locationCondition['B'] = 0\n",
        "                Score += 1\n",
        "                print(\"Location B has been Cleaned.\")\n",
        "            print(\"Environment is Clean.\")\n",
        "\n",
        "        elif vacuumLocation == 1:\n",
        "            print(\"Vacuum randomly placed at Location B.\")\n",
        "            print(\"Location B is Dirty.\") if Environment.locationCondition['B'] == 1 else print(\n",
        "                \"Location B is Clean.\")\n",
        "            if Environment.locationCondition['B'] == 1:\n",
        "                Environment.locationCondition['B'] = 0\n",
        "                Score += 1\n",
        "                print(\"Location B has been Cleaned.\")\n",
        "            print(\"Moving to Location A...\")\n",
        "            print(\"Location A is Dirty.\") if Environment.locationCondition['A'] == 1 else print(\n",
        "                \"Location A is Clean.\")\n",
        "            if Environment.locationCondition['A'] == 1:\n",
        "                Environment.locationCondition['A'] = 0\n",
        "                Score += 1\n",
        "                print(\"Location A has been Cleaned.\")\n",
        "            print(\"Environment is Clean.\")\n",
        "\n",
        "        print(Environment.locationCondition)\n",
        "        print(\"Performance Measurement: \" + str(Score))\n",
        "\n",
        "\n",
        "theEnvironment = Environment()\n",
        "theVacuum = SimpleReflexVacuumAgent(theEnvironment)\n"
      ]
    },
    {
      "cell_type": "markdown",
      "source": [],
      "metadata": {
        "id": "qWSQiecI7Z1G"
      },
      "id": "qWSQiecI7Z1G"
    }
  ],
  "metadata": {
    "kernelspec": {
      "display_name": "Python 3",
      "name": "python3"
    },
    "language_info": {
      "codemirror_mode": {
        "name": "ipython",
        "version": 3
      },
      "file_extension": ".py",
      "mimetype": "text/x-python",
      "name": "python",
      "nbconvert_exporter": "python",
      "pygments_lexer": "ipython3",
      "version": "3.9.7"
    },
    "colab": {
      "provenance": [],
      "include_colab_link": true
    }
  },
  "nbformat": 4,
  "nbformat_minor": 5
}